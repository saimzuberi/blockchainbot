{
 "cells": [
  {
   "cell_type": "code",
   "execution_count": 1,
   "id": "675a407b",
   "metadata": {},
   "outputs": [],
   "source": [
    "import sys\n",
    "sys.path.append(\"../SourceCode\")"
   ]
  },
  {
   "cell_type": "code",
   "execution_count": 2,
   "id": "4b9064d7",
   "metadata": {},
   "outputs": [
    {
     "name": "stdout",
     "output_type": "stream",
     "text": [
      "/Users/charlotte/UofT/blockchainbot/SourceCode\n",
      "API KEY: None\n"
     ]
    }
   ],
   "source": [
    "from dataManagement import DatabaseManagement"
   ]
  },
  {
   "cell_type": "code",
   "execution_count": 3,
   "id": "a4d23b0e",
   "metadata": {},
   "outputs": [],
   "source": [
    "db = DatabaseManagement()"
   ]
  },
  {
   "cell_type": "code",
   "execution_count": null,
   "id": "8db09e6e",
   "metadata": {},
   "outputs": [],
   "source": [
    "db.ohlc_update('BTCUSD')"
   ]
  },
  {
   "cell_type": "code",
   "execution_count": null,
   "id": "2f422531",
   "metadata": {},
   "outputs": [],
   "source": [
    "db.ohlc_update(\"ETHUSD\")"
   ]
  },
  {
   "cell_type": "code",
   "execution_count": null,
   "id": "61e4e9f0",
   "metadata": {},
   "outputs": [],
   "source": [
    "db.ticker_universe #property object not a function so please do not call () it... "
   ]
  },
  {
   "cell_type": "code",
   "execution_count": null,
   "id": "a17fecc7",
   "metadata": {},
   "outputs": [],
   "source": []
  }
 ],
 "metadata": {
  "kernelspec": {
   "display_name": "Python 3 (ipykernel)",
   "language": "python",
   "name": "python3"
  },
  "language_info": {
   "codemirror_mode": {
    "name": "ipython",
    "version": 3
   },
   "file_extension": ".py",
   "mimetype": "text/x-python",
   "name": "python",
   "nbconvert_exporter": "python",
   "pygments_lexer": "ipython3",
   "version": "3.7.13"
  }
 },
 "nbformat": 4,
 "nbformat_minor": 5
}
