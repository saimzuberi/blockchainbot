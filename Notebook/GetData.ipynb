{
 "cells": [
  {
   "cell_type": "code",
   "execution_count": 1,
   "id": "675a407b",
   "metadata": {},
   "outputs": [],
   "source": [
    "import sys\n",
    "sys.path.append(\"../SourceCode\")"
   ]
  },
  {
   "cell_type": "code",
   "execution_count": 2,
   "id": "4b9064d7",
   "metadata": {},
   "outputs": [
    {
     "name": "stdout",
     "output_type": "stream",
     "text": [
      "API KEY: 7TvgfyF7r_J6E4OWLhwkDYDKnkTjzwPL\n",
      "/Users/charlotte/UofT/blockchainbot/SourceCode\n"
     ]
    }
   ],
   "source": [
    "from dataManagement import DatabaseManagement"
   ]
  },
  {
   "cell_type": "code",
   "execution_count": 3,
   "id": "a4d23b0e",
   "metadata": {},
   "outputs": [],
   "source": [
    "db = DatabaseManagement()"
   ]
  },
  {
   "cell_type": "code",
   "execution_count": 10,
   "id": "8db09e6e",
   "metadata": {},
   "outputs": [
    {
     "name": "stdout",
     "output_type": "stream",
     "text": [
      "Calls made: 1\n",
      "Calls made: 2\n",
      "Calls made: 3\n",
      "Calls made: 4\n",
      "Calls made: 5\n",
      "Calls made: 6\n"
     ]
    }
   ],
   "source": [
    "for i in range(6):\n",
    "    df = db.ohlc_update('BTCUSD',update=True)\n",
    "    print(f\"Calls made: {i+1}\")\n",
    "    "
   ]
  },
  {
   "cell_type": "code",
   "execution_count": 5,
   "id": "2f422531",
   "metadata": {},
   "outputs": [
    {
     "data": {
      "text/html": [
       "<div>\n",
       "<style scoped>\n",
       "    .dataframe tbody tr th:only-of-type {\n",
       "        vertical-align: middle;\n",
       "    }\n",
       "\n",
       "    .dataframe tbody tr th {\n",
       "        vertical-align: top;\n",
       "    }\n",
       "\n",
       "    .dataframe thead th {\n",
       "        text-align: right;\n",
       "    }\n",
       "</style>\n",
       "<table border=\"1\" class=\"dataframe\">\n",
       "  <thead>\n",
       "    <tr style=\"text-align: right;\">\n",
       "      <th></th>\n",
       "      <th>date</th>\n",
       "      <th>open</th>\n",
       "      <th>high</th>\n",
       "      <th>low</th>\n",
       "      <th>close</th>\n",
       "      <th>volume</th>\n",
       "    </tr>\n",
       "  </thead>\n",
       "  <tbody>\n",
       "    <tr>\n",
       "      <th>0</th>\n",
       "      <td>2020-10-10</td>\n",
       "      <td>365.35</td>\n",
       "      <td>380.81</td>\n",
       "      <td>364.65000</td>\n",
       "      <td>370.75</td>\n",
       "      <td>517169.088269</td>\n",
       "    </tr>\n",
       "    <tr>\n",
       "      <th>1</th>\n",
       "      <td>2020-10-11</td>\n",
       "      <td>371.15</td>\n",
       "      <td>378.00</td>\n",
       "      <td>368.89400</td>\n",
       "      <td>374.61</td>\n",
       "      <td>219975.979236</td>\n",
       "    </tr>\n",
       "    <tr>\n",
       "      <th>2</th>\n",
       "      <td>2020-10-12</td>\n",
       "      <td>374.38</td>\n",
       "      <td>395.81</td>\n",
       "      <td>364.95600</td>\n",
       "      <td>387.00</td>\n",
       "      <td>553490.389576</td>\n",
       "    </tr>\n",
       "    <tr>\n",
       "      <th>3</th>\n",
       "      <td>2020-10-13</td>\n",
       "      <td>387.39</td>\n",
       "      <td>388.31</td>\n",
       "      <td>374.10000</td>\n",
       "      <td>381.37</td>\n",
       "      <td>491870.404718</td>\n",
       "    </tr>\n",
       "    <tr>\n",
       "      <th>4</th>\n",
       "      <td>2020-10-14</td>\n",
       "      <td>381.74</td>\n",
       "      <td>388.47</td>\n",
       "      <td>372.82500</td>\n",
       "      <td>379.08</td>\n",
       "      <td>442147.054015</td>\n",
       "    </tr>\n",
       "    <tr>\n",
       "      <th>...</th>\n",
       "      <td>...</td>\n",
       "      <td>...</td>\n",
       "      <td>...</td>\n",
       "      <td>...</td>\n",
       "      <td>...</td>\n",
       "      <td>...</td>\n",
       "    </tr>\n",
       "    <tr>\n",
       "      <th>725</th>\n",
       "      <td>2022-10-05</td>\n",
       "      <td>1362.10</td>\n",
       "      <td>1365.00</td>\n",
       "      <td>1316.20000</td>\n",
       "      <td>1352.48</td>\n",
       "      <td>374141.460202</td>\n",
       "    </tr>\n",
       "    <tr>\n",
       "      <th>726</th>\n",
       "      <td>2022-10-06</td>\n",
       "      <td>1352.37</td>\n",
       "      <td>1390.20</td>\n",
       "      <td>1345.00000</td>\n",
       "      <td>1352.24</td>\n",
       "      <td>510913.126111</td>\n",
       "    </tr>\n",
       "    <tr>\n",
       "      <th>727</th>\n",
       "      <td>2022-10-07</td>\n",
       "      <td>1352.18</td>\n",
       "      <td>1362.14</td>\n",
       "      <td>1317.14808</td>\n",
       "      <td>1331.00</td>\n",
       "      <td>341770.659790</td>\n",
       "    </tr>\n",
       "    <tr>\n",
       "      <th>728</th>\n",
       "      <td>2022-10-08</td>\n",
       "      <td>1331.12</td>\n",
       "      <td>1337.70</td>\n",
       "      <td>1303.60000</td>\n",
       "      <td>1315.71</td>\n",
       "      <td>101418.347412</td>\n",
       "    </tr>\n",
       "    <tr>\n",
       "      <th>729</th>\n",
       "      <td>2022-10-09</td>\n",
       "      <td>1315.26</td>\n",
       "      <td>1329.33</td>\n",
       "      <td>1307.21000</td>\n",
       "      <td>1323.41</td>\n",
       "      <td>116675.842467</td>\n",
       "    </tr>\n",
       "  </tbody>\n",
       "</table>\n",
       "<p>730 rows × 6 columns</p>\n",
       "</div>"
      ],
      "text/plain": [
       "           date     open     high         low    close         volume\n",
       "0    2020-10-10   365.35   380.81   364.65000   370.75  517169.088269\n",
       "1    2020-10-11   371.15   378.00   368.89400   374.61  219975.979236\n",
       "2    2020-10-12   374.38   395.81   364.95600   387.00  553490.389576\n",
       "3    2020-10-13   387.39   388.31   374.10000   381.37  491870.404718\n",
       "4    2020-10-14   381.74   388.47   372.82500   379.08  442147.054015\n",
       "..          ...      ...      ...         ...      ...            ...\n",
       "725  2022-10-05  1362.10  1365.00  1316.20000  1352.48  374141.460202\n",
       "726  2022-10-06  1352.37  1390.20  1345.00000  1352.24  510913.126111\n",
       "727  2022-10-07  1352.18  1362.14  1317.14808  1331.00  341770.659790\n",
       "728  2022-10-08  1331.12  1337.70  1303.60000  1315.71  101418.347412\n",
       "729  2022-10-09  1315.26  1329.33  1307.21000  1323.41  116675.842467\n",
       "\n",
       "[730 rows x 6 columns]"
      ]
     },
     "execution_count": 5,
     "metadata": {},
     "output_type": "execute_result"
    }
   ],
   "source": [
    "db.ohlc_update(\"ETHUSD\")"
   ]
  },
  {
   "cell_type": "code",
   "execution_count": null,
   "id": "61e4e9f0",
   "metadata": {},
   "outputs": [],
   "source": [
    "db.ticker_universe #property object not a function so please do not call () it... "
   ]
  },
  {
   "cell_type": "code",
   "execution_count": null,
   "id": "a17fecc7",
   "metadata": {},
   "outputs": [],
   "source": []
  }
 ],
 "metadata": {
  "kernelspec": {
   "display_name": "Python 3 (ipykernel)",
   "language": "python",
   "name": "python3"
  },
  "language_info": {
   "codemirror_mode": {
    "name": "ipython",
    "version": 3
   },
   "file_extension": ".py",
   "mimetype": "text/x-python",
   "name": "python",
   "nbconvert_exporter": "python",
   "pygments_lexer": "ipython3",
   "version": "3.7.13"
  }
 },
 "nbformat": 4,
 "nbformat_minor": 5
}
