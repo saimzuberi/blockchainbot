{
 "cells": [
  {
   "cell_type": "code",
   "execution_count": 1,
   "id": "839c506b",
   "metadata": {},
   "outputs": [],
   "source": [
    "import sys\n",
    "sys.path.append('../SourceCode')"
   ]
  },
  {
   "cell_type": "code",
   "execution_count": 2,
   "id": "cf153a2c",
   "metadata": {},
   "outputs": [],
   "source": [
    "import json\n",
    "import pandas as pd\n",
    "import os"
   ]
  },
  {
   "cell_type": "code",
   "execution_count": 3,
   "id": "7cc097e3",
   "metadata": {},
   "outputs": [
    {
     "name": "stdout",
     "output_type": "stream",
     "text": [
      "/Users/charlotte/UofT/blockchainbot/SourceCode\n"
     ]
    }
   ],
   "source": [
    "from candleStickPattern import CandleStickPatterns"
   ]
  },
  {
   "cell_type": "code",
   "execution_count": 4,
   "id": "e3ff29d6",
   "metadata": {},
   "outputs": [],
   "source": [
    "self = CandleStickPatterns(market='crypto')"
   ]
  },
  {
   "cell_type": "code",
   "execution_count": 5,
   "id": "83fb1be5",
   "metadata": {},
   "outputs": [],
   "source": [
    "ticker = 'BTCUSD'"
   ]
  },
  {
   "cell_type": "code",
   "execution_count": 6,
   "id": "e63700ba",
   "metadata": {},
   "outputs": [],
   "source": [
    "total_patterns = 60"
   ]
  },
  {
   "cell_type": "code",
   "execution_count": 7,
   "id": "6e2662d8",
   "metadata": {},
   "outputs": [],
   "source": [
    "# GET ALL THE FAILED TICKERS (STUFF THAT FAILED TO DOWNLOAD)\n",
    "failed_ticker_path = os.path.join(self.src_database,\"failed_tickers.json\")"
   ]
  },
  {
   "cell_type": "code",
   "execution_count": 8,
   "id": "265a047c",
   "metadata": {},
   "outputs": [],
   "source": [
    "with open(failed_ticker_path,'r') as f:\n",
    "    failed_tickers = json.loads(f.read())\n",
    "    f.close()\n",
    "failed_tickers  = failed_tickers['failed_tickers']\n",
    "failed_tickers"
   ]
  },
  {
   "cell_type": "code",
   "execution_count": 15,
   "id": "c3bc607d",
   "metadata": {},
   "outputs": [
    {
     "ename": "TypeError",
     "evalue": "list indices must be integers or slices, not str",
     "output_type": "error",
     "traceback": [
      "\u001b[0;31m---------------------------------------------------------------------------\u001b[0m",
      "\u001b[0;31mTypeError\u001b[0m                                 Traceback (most recent call last)",
      "\u001b[0;32m/var/folders/8x/yrpntsb57xd89yzhj79nvx3c0000gn/T/ipykernel_11382/2756676929.py\u001b[0m in \u001b[0;36m<module>\u001b[0;34m\u001b[0m\n\u001b[0;32m----> 1\u001b[0;31m \u001b[0mfailed_tickers\u001b[0m  \u001b[0;34m=\u001b[0m \u001b[0mfailed_tickers\u001b[0m\u001b[0;34m[\u001b[0m\u001b[0;34m'failed_tickers'\u001b[0m\u001b[0;34m]\u001b[0m\u001b[0;34m\u001b[0m\u001b[0;34m\u001b[0m\u001b[0m\n\u001b[0m\u001b[1;32m      2\u001b[0m \u001b[0mfailed_tickers\u001b[0m\u001b[0;34m\u001b[0m\u001b[0;34m\u001b[0m\u001b[0m\n",
      "\u001b[0;31mTypeError\u001b[0m: list indices must be integers or slices, not str"
     ]
    }
   ],
   "source": []
  },
  {
   "cell_type": "code",
   "execution_count": 10,
   "id": "b1fa26a2",
   "metadata": {},
   "outputs": [],
   "source": [
    "# GET ALL THE DOWNLOADED TICKERS FOR ONE DAY CANDLES\n",
    "tickers = [t for t in self.ticker_universe.ticker.tolist() if t not in failed_tickers]"
   ]
  },
  {
   "cell_type": "code",
   "execution_count": 11,
   "id": "b7e12bae",
   "metadata": {},
   "outputs": [],
   "source": [
    "patterns = []\n",
    "# ITERATE THROUGH ALL THE CRYPTOS AND EXTRACT PATTERNS FOR THE LASTEST DATA\n",
    "for ticker in tickers:\n",
    "    pattern_df = self.get_patterns(ticker)\n",
    "    last_candle_pattern = pattern_df[pattern_df!=0].iloc[-1,6:]\n",
    "    # Looking at the latest value in dataframe with non zero values\n",
    "    x = last_candle_pattern\n",
    "    x.dropna(inplace=True)\n",
    "    # TAKE AN AVERAGE OF NON-ZERO AS A RATING AND PATTERN NAMES IN THE COLUMN\n",
    "    if len(x)>0:\n",
    "        patterns.append([ticker, \"Bullish\" if sum(x)/len(x)>0 else \"Bearish\", \",\".join(x.index.tolist())])\n",
    "    else:\n",
    "        patterns.append([ticker, \"Neutral\", \"No Patterns\"])"
   ]
  },
  {
   "cell_type": "code",
   "execution_count": 12,
   "id": "a7030423",
   "metadata": {},
   "outputs": [],
   "source": [
    "last_pattern_df = pd.DataFrame(patterns,columns=['Ticker','Signal','Patterns'])"
   ]
  },
  {
   "cell_type": "code",
   "execution_count": 13,
   "id": "916a2b71",
   "metadata": {},
   "outputs": [],
   "source": [
    "last_pattern_df.set_index(\"Ticker\",inplace=True)"
   ]
  },
  {
   "cell_type": "code",
   "execution_count": 14,
   "id": "c1c7c34b",
   "metadata": {},
   "outputs": [
    {
     "data": {
      "text/plain": [
       "<AxesSubplot:title={'center':'Total Bull Bear Neutral Cryptos'}, xlabel='Signal'>"
      ]
     },
     "execution_count": 14,
     "metadata": {},
     "output_type": "execute_result"
    },
    {
     "data": {
      "image/png": "[encoded data removed]",
      "text/plain": [
       "<Figure size 432x288 with 1 Axes>"
      ]
     },
     "metadata": {
      "needs_background": "light"
     },
     "output_type": "display_data"
    }
   ],
   "source": [
    "last_pattern_df.groupby('Signal').count().plot(kind='bar',title='Total Bull Bear Neutral Cryptos')"
   ]
  },
  {
   "cell_type": "code",
   "execution_count": null,
   "id": "dd4c01f4",
   "metadata": {},
   "outputs": [],
   "source": [
    "\n",
    "\n",
    "\n",
    "\n"
   ]
  },
  {
   "cell_type": "code",
   "execution_count": null,
   "id": "91cdc6ca",
   "metadata": {},
   "outputs": [],
   "source": []
  },
  {
   "cell_type": "code",
   "execution_count": null,
   "id": "f8505329",
   "metadata": {},
   "outputs": [],
   "source": []
  }
 ],
 "metadata": {
  "kernelspec": {
   "display_name": "Python 3 (ipykernel)",
   "language": "python",
   "name": "python3"
  },
  "language_info": {
   "codemirror_mode": {
    "name": "ipython",
    "version": 3
   },
   "file_extension": ".py",
   "mimetype": "text/x-python",
   "name": "python",
   "nbconvert_exporter": "python",
   "pygments_lexer": "ipython3",
   "version": "3.7.13"
  }
 },
 "nbformat": 4,
 "nbformat_minor": 5
}
