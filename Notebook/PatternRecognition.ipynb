{
 "cells": [
  {
   "cell_type": "code",
   "execution_count": 8,
   "id": "839c506b",
   "metadata": {},
   "outputs": [],
   "source": [
    "import sys\n",
    "sys.path.append('../SourceCode')"
   ]
  },
  {
   "cell_type": "code",
   "execution_count": 72,
   "id": "cf153a2c",
   "metadata": {},
   "outputs": [],
   "source": [
    "import json\n",
    "import pandas as pd\n",
    "import os"
   ]
  },
  {
   "cell_type": "code",
   "execution_count": 9,
   "id": "7cc097e3",
   "metadata": {},
   "outputs": [],
   "source": [
    "from candleStickPattern import CandleStickPatterns"
   ]
  },
  {
   "cell_type": "code",
   "execution_count": 10,
   "id": "e3ff29d6",
   "metadata": {},
   "outputs": [],
   "source": [
    "self = CandleStickPatterns(market='crypto')"
   ]
  },
  {
   "cell_type": "code",
   "execution_count": 11,
   "id": "83fb1be5",
   "metadata": {},
   "outputs": [],
   "source": [
    "ticker = 'BTCUSD'"
   ]
  },
  {
   "cell_type": "code",
   "execution_count": null,
   "id": "1e45853e",
   "metadata": {},
   "outputs": [],
   "source": []
  },
  {
   "cell_type": "code",
   "execution_count": 55,
   "id": "001fb909",
   "metadata": {},
   "outputs": [],
   "source": []
  },
  {
   "cell_type": "code",
   "execution_count": 65,
   "id": "c6400c23",
   "metadata": {},
   "outputs": [
    {
     "data": {
      "text/plain": [
       "6"
      ]
     },
     "execution_count": 65,
     "metadata": {},
     "output_type": "execute_result"
    }
   ],
   "source": [
    "len(x)"
   ]
  },
  {
   "cell_type": "code",
   "execution_count": 63,
   "id": "dd2054b4",
   "metadata": {},
   "outputs": [
    {
     "data": {
      "text/plain": [
       "'Doji,Wave Candle,Long Legged Doji,Rickshaw Man,Short Line Candle,Spinning Top'"
      ]
     },
     "execution_count": 63,
     "metadata": {},
     "output_type": "execute_result"
    }
   ],
   "source": []
  },
  {
   "cell_type": "code",
   "execution_count": 13,
   "id": "0835580e",
   "metadata": {},
   "outputs": [
    {
     "data": {
      "text/html": [
       "<div>\n",
       "<style scoped>\n",
       "    .dataframe tbody tr th:only-of-type {\n",
       "        vertical-align: middle;\n",
       "    }\n",
       "\n",
       "    .dataframe tbody tr th {\n",
       "        vertical-align: top;\n",
       "    }\n",
       "\n",
       "    .dataframe thead th {\n",
       "        text-align: right;\n",
       "    }\n",
       "</style>\n",
       "<table border=\"1\" class=\"dataframe\">\n",
       "  <thead>\n",
       "    <tr style=\"text-align: right;\">\n",
       "      <th></th>\n",
       "      <th>date</th>\n",
       "      <th>open</th>\n",
       "      <th>high</th>\n",
       "      <th>low</th>\n",
       "      <th>close</th>\n",
       "      <th>volume</th>\n",
       "      <th>Two Crows</th>\n",
       "      <th>Three Black Crows</th>\n",
       "      <th>Three Inside Up/Down</th>\n",
       "      <th>Line Strike</th>\n",
       "      <th>...</th>\n",
       "      <th>Spinning Top</th>\n",
       "      <th>Stalled Pattern</th>\n",
       "      <th>Stick Sandwich</th>\n",
       "      <th>Takuri (Dragonfly Doji with very long lower shadow)</th>\n",
       "      <th>Tasuki Gap</th>\n",
       "      <th>Thrusting Pattern</th>\n",
       "      <th>Tristar Pattern</th>\n",
       "      <th>Unique 3 River</th>\n",
       "      <th>Upside Gap Two Crows</th>\n",
       "      <th>Upside/Downside Gap Three Methods</th>\n",
       "    </tr>\n",
       "  </thead>\n",
       "  <tbody>\n",
       "    <tr>\n",
       "      <th>0</th>\n",
       "      <td>2020-10-10</td>\n",
       "      <td>11057.07</td>\n",
       "      <td>11505.000000</td>\n",
       "      <td>11051.80</td>\n",
       "      <td>11299.50</td>\n",
       "      <td>44961.676814</td>\n",
       "      <td>0</td>\n",
       "      <td>0</td>\n",
       "      <td>0</td>\n",
       "      <td>0</td>\n",
       "      <td>...</td>\n",
       "      <td>0</td>\n",
       "      <td>0</td>\n",
       "      <td>0</td>\n",
       "      <td>0</td>\n",
       "      <td>0</td>\n",
       "      <td>0</td>\n",
       "      <td>0</td>\n",
       "      <td>0</td>\n",
       "      <td>0</td>\n",
       "      <td>0</td>\n",
       "    </tr>\n",
       "    <tr>\n",
       "      <th>1</th>\n",
       "      <td>2020-10-11</td>\n",
       "      <td>11300.97</td>\n",
       "      <td>11451.000000</td>\n",
       "      <td>11262.00</td>\n",
       "      <td>11374.01</td>\n",
       "      <td>24771.737130</td>\n",
       "      <td>0</td>\n",
       "      <td>0</td>\n",
       "      <td>0</td>\n",
       "      <td>0</td>\n",
       "      <td>...</td>\n",
       "      <td>0</td>\n",
       "      <td>0</td>\n",
       "      <td>0</td>\n",
       "      <td>0</td>\n",
       "      <td>0</td>\n",
       "      <td>0</td>\n",
       "      <td>0</td>\n",
       "      <td>0</td>\n",
       "      <td>0</td>\n",
       "      <td>0</td>\n",
       "    </tr>\n",
       "    <tr>\n",
       "      <th>2</th>\n",
       "      <td>2020-10-12</td>\n",
       "      <td>11374.01</td>\n",
       "      <td>11739.973980</td>\n",
       "      <td>11111.00</td>\n",
       "      <td>11529.32</td>\n",
       "      <td>50327.963182</td>\n",
       "      <td>0</td>\n",
       "      <td>0</td>\n",
       "      <td>0</td>\n",
       "      <td>0</td>\n",
       "      <td>...</td>\n",
       "      <td>0</td>\n",
       "      <td>0</td>\n",
       "      <td>0</td>\n",
       "      <td>0</td>\n",
       "      <td>0</td>\n",
       "      <td>0</td>\n",
       "      <td>0</td>\n",
       "      <td>0</td>\n",
       "      <td>0</td>\n",
       "      <td>0</td>\n",
       "    </tr>\n",
       "    <tr>\n",
       "      <th>3</th>\n",
       "      <td>2020-10-13</td>\n",
       "      <td>11535.46</td>\n",
       "      <td>11574.908502</td>\n",
       "      <td>11306.13</td>\n",
       "      <td>11428.22</td>\n",
       "      <td>45521.349079</td>\n",
       "      <td>0</td>\n",
       "      <td>0</td>\n",
       "      <td>0</td>\n",
       "      <td>0</td>\n",
       "      <td>...</td>\n",
       "      <td>0</td>\n",
       "      <td>0</td>\n",
       "      <td>0</td>\n",
       "      <td>0</td>\n",
       "      <td>0</td>\n",
       "      <td>0</td>\n",
       "      <td>0</td>\n",
       "      <td>0</td>\n",
       "      <td>0</td>\n",
       "      <td>0</td>\n",
       "    </tr>\n",
       "    <tr>\n",
       "      <th>4</th>\n",
       "      <td>2020-10-14</td>\n",
       "      <td>11443.00</td>\n",
       "      <td>11564.000000</td>\n",
       "      <td>11284.27</td>\n",
       "      <td>11427.70</td>\n",
       "      <td>38608.497800</td>\n",
       "      <td>0</td>\n",
       "      <td>0</td>\n",
       "      <td>0</td>\n",
       "      <td>0</td>\n",
       "      <td>...</td>\n",
       "      <td>0</td>\n",
       "      <td>0</td>\n",
       "      <td>0</td>\n",
       "      <td>0</td>\n",
       "      <td>0</td>\n",
       "      <td>0</td>\n",
       "      <td>0</td>\n",
       "      <td>0</td>\n",
       "      <td>0</td>\n",
       "      <td>0</td>\n",
       "    </tr>\n",
       "  </tbody>\n",
       "</table>\n",
       "<p>5 rows × 66 columns</p>\n",
       "</div>"
      ],
      "text/plain": [
       "         date      open          high       low     close        volume  \\\n",
       "0  2020-10-10  11057.07  11505.000000  11051.80  11299.50  44961.676814   \n",
       "1  2020-10-11  11300.97  11451.000000  11262.00  11374.01  24771.737130   \n",
       "2  2020-10-12  11374.01  11739.973980  11111.00  11529.32  50327.963182   \n",
       "3  2020-10-13  11535.46  11574.908502  11306.13  11428.22  45521.349079   \n",
       "4  2020-10-14  11443.00  11564.000000  11284.27  11427.70  38608.497800   \n",
       "\n",
       "   Two Crows  Three Black Crows  Three Inside Up/Down  Line Strike  ...  \\\n",
       "0          0                  0                     0            0  ...   \n",
       "1          0                  0                     0            0  ...   \n",
       "2          0                  0                     0            0  ...   \n",
       "3          0                  0                     0            0  ...   \n",
       "4          0                  0                     0            0  ...   \n",
       "\n",
       "   Spinning Top  Stalled Pattern  Stick Sandwich  \\\n",
       "0             0                0               0   \n",
       "1             0                0               0   \n",
       "2             0                0               0   \n",
       "3             0                0               0   \n",
       "4             0                0               0   \n",
       "\n",
       "   Takuri (Dragonfly Doji with very long lower shadow)  Tasuki Gap  \\\n",
       "0                                                  0             0   \n",
       "1                                                  0             0   \n",
       "2                                                  0             0   \n",
       "3                                                  0             0   \n",
       "4                                                  0             0   \n",
       "\n",
       "   Thrusting Pattern  Tristar Pattern  Unique 3 River  Upside Gap Two Crows  \\\n",
       "0                  0                0               0                     0   \n",
       "1                  0                0               0                     0   \n",
       "2                  0                0               0                     0   \n",
       "3                  0                0               0                     0   \n",
       "4                  0                0               0                     0   \n",
       "\n",
       "   Upside/Downside Gap Three Methods  \n",
       "0                                  0  \n",
       "1                                  0  \n",
       "2                                  0  \n",
       "3                                  0  \n",
       "4                                  0  \n",
       "\n",
       "[5 rows x 66 columns]"
      ]
     },
     "metadata": {},
     "output_type": "display_data"
    }
   ],
   "source": [
    "display(pattern_df.head())"
   ]
  },
  {
   "cell_type": "code",
   "execution_count": 54,
   "id": "e63700ba",
   "metadata": {},
   "outputs": [],
   "source": [
    "total_patterns = 60"
   ]
  },
  {
   "cell_type": "code",
   "execution_count": 37,
   "id": "6e2662d8",
   "metadata": {},
   "outputs": [],
   "source": [
    "# GET ALL THE FAILED TICKERS (STUFF THAT FAILED TO DOWNLOAD)\n",
    "failed_ticker_path = os.path.join(self.src_database,\"failed_tickers.json\")"
   ]
  },
  {
   "cell_type": "code",
   "execution_count": 40,
   "id": "265a047c",
   "metadata": {},
   "outputs": [],
   "source": [
    "with open(failed_ticker_path,'r') as f:\n",
    "    failed_tickers = json.loads(f.read())\n",
    "    f.close()"
   ]
  },
  {
   "cell_type": "code",
   "execution_count": 44,
   "id": "c3bc607d",
   "metadata": {},
   "outputs": [],
   "source": [
    "failed_tickers  = failed_tickers['failed_tickers']"
   ]
  },
  {
   "cell_type": "code",
   "execution_count": 48,
   "id": "b1fa26a2",
   "metadata": {},
   "outputs": [],
   "source": [
    "# GET ALL THE DOWNLOADED TICKERS FOR ONE DAY CANDLES\n",
    "tickers = [t for t in self.ticker_universe.ticker.tolist() if t not in failed_tickers]"
   ]
  },
  {
   "cell_type": "code",
   "execution_count": 77,
   "id": "b7e12bae",
   "metadata": {},
   "outputs": [],
   "source": [
    "patterns = []\n",
    "# ITERATE THROUGH ALL THE CRYPTOS AND EXTRACT PATTERNS FOR THE LASTEST DATA\n",
    "for ticker in tickers:\n",
    "    pattern_df = self.get_patterns(ticker)\n",
    "    last_candle_pattern = pattern_df[pattern_df!=0].iloc[-1,6:]\n",
    "    # Looking at the latest value in dataframe with non zero values\n",
    "    x = last_candle_pattern\n",
    "    x.dropna(inplace=True)\n",
    "    # TAKE AN AVERAGE OF NON-ZERO AS A RATING AND PATTERN NAMES IN THE COLUMN\n",
    "    if len(x)>0:\n",
    "        patterns.append([ticker, \"Bullish\" if sum(x)/len(x)>0 else \"Bearish\", \",\".join(x.index.tolist())])\n",
    "    else:\n",
    "        patterns.append([ticker, \"Neutral\", \"No Patterns\"])"
   ]
  },
  {
   "cell_type": "code",
   "execution_count": 79,
   "id": "a7030423",
   "metadata": {},
   "outputs": [],
   "source": [
    "last_pattern_df = pd.DataFrame(patterns,columns=['Ticker','Signal','Patterns'])"
   ]
  },
  {
   "cell_type": "code",
   "execution_count": 80,
   "id": "916a2b71",
   "metadata": {},
   "outputs": [],
   "source": [
    "last_pattern_df.set_index(\"Ticker\",inplace=True)"
   ]
  },
  {
   "cell_type": "code",
   "execution_count": 90,
   "id": "c1c7c34b",
   "metadata": {},
   "outputs": [
    {
     "data": {
      "text/plain": [
       "<AxesSubplot:xlabel='Signal'>"
      ]
     },
     "execution_count": 90,
     "metadata": {},
     "output_type": "execute_result"
    },
    {
     "data": {
      "image/png": "[encoded data removed]",
      "text/plain": [
       "<Figure size 432x288 with 1 Axes>"
      ]
     },
     "metadata": {
      "needs_background": "light"
     },
     "output_type": "display_data"
    }
   ],
   "source": [
    "last_pattern_df.groupby('Signal').count().plot(kind='bar',title='Total Bull Bear Neutral Cryptos')"
   ]
  },
  {
   "cell_type": "code",
   "execution_count": 16,
   "id": "dd4c01f4",
   "metadata": {},
   "outputs": [
    {
     "data": {
      "text/plain": [
       "array(['2022-10-09', 19420.0, 19563.28, 19321.0, 19443.5,\n",
       "       14566.224537181866, 0, 0, 0, 0, 0, 0, 0, 0, 0, 0, 0, 0, 0, 0, 0,\n",
       "       100, 0, 0, 0, 0, 0, 0, 0, 0, 0, 0, 0, 100, 0, 0, 0, 0, 0, 0, 0, 0,\n",
       "       0, 100, 0, 0, 0, 0, 0, 0, 0, 100, 0, 0, 0, 100, 100, 0, 0, 0, 0, 0,\n",
       "       0, 0, 0, 0], dtype=object)"
      ]
     },
     "execution_count": 16,
     "metadata": {},
     "output_type": "execute_result"
    }
   ],
   "source": [
    "\n",
    "\n",
    "\n",
    "\n"
   ]
  },
  {
   "cell_type": "code",
   "execution_count": null,
   "id": "91cdc6ca",
   "metadata": {},
   "outputs": [],
   "source": []
  }
 ],
 "metadata": {
  "kernelspec": {
   "display_name": "Python 3 (ipykernel)",
   "language": "python",
   "name": "python3"
  },
  "language_info": {
   "codemirror_mode": {
    "name": "ipython",
    "version": 3
   },
   "file_extension": ".py",
   "mimetype": "text/x-python",
   "name": "python",
   "nbconvert_exporter": "python",
   "pygments_lexer": "ipython3",
   "version": "3.7.13"
  }
 },
 "nbformat": 4,
 "nbformat_minor": 5
}
