{
 "cells": [
  {
   "cell_type": "code",
   "execution_count": null,
   "id": "dbd8e885-0adf-4912-b077-1b41994b5053",
   "metadata": {},
   "outputs": [],
   "source": [
    "# Initial imports\n",
    "import os\n",
    "import requests\n",
    "import pandas as pd\n",
    "from dotenv import load_dotenv\n",
    "from MCForecastTools import MCSimulation\n",
    "import json\n",
    "import urllib.request\n",
    "#import polygon as settings \n",
    "from datetime import date, datetime\n",
    "from requests.adapters import HTTPAdapter\n",
    "from urllib3.util.retry import Retry\n",
    "from polygon import RESTClient\n",
    "from local_settings import polygon as settings\n",
    "import hvplot.pandas\n",
    "import seaborn as sns\n",
    "%matplotlib inline"
   ]
  },
  {
   "cell_type": "code",
   "execution_count": null,
   "id": "9b59b79e-a0e1-4997-b4a7-51ee2468f3c2",
   "metadata": {},
   "outputs": [],
   "source": [
    "# Load .env enviroment variables\n",
    "load_dotenv()"
   ]
  },
  {
   "cell_type": "code",
   "execution_count": null,
   "id": "91951e6c-00d4-4a50-9ab4-4f2f2bf34c48",
   "metadata": {},
   "outputs": [],
   "source": [
    "# Load API KEY from env file\n",
    "polygon_api_key = os.getenv(\"api_key\")\n",
    "print(polygon_api_key)"
   ]
  },
  {
   "cell_type": "code",
   "execution_count": null,
   "id": "1b068749-9948-4076-9cb5-2fce6fb3258f",
   "metadata": {},
   "outputs": [],
   "source": [
    "markets = ['crypto', 'stocks', 'fx']\n",
    "\n",
    "class MyRESTClient(RESTClient):\n",
    "    def __init__(self, auth_key: str=settings['api_key'], timeout:int=5):\n",
    "        super().__init__(auth_key)\n",
    "        retry_strategy = Retry(total=10,\n",
    "                               backoff_factor=10,\n",
    "                               status_forcelist=[429, 500, 502, 503, 504])\n",
    "        adapter = HTTPAdapter(max_retries=retry_strategy)\n",
    "        self._session.mount('https://', adapter)\n",
    "        \n"
   ]
  },
  {
   "cell_type": "code",
   "execution_count": null,
   "id": "74ef5ab4-cbe3-4039-be74-6376cc1c7aa4",
   "metadata": {},
   "outputs": [],
   "source": [
    "client = MyRESTClient(settings['api_key'])"
   ]
  },
  {
   "cell_type": "code",
   "execution_count": null,
   "id": "526030f8-3c62-4734-b6b5-69e5ac3f337b",
   "metadata": {},
   "outputs": [],
   "source": [
    "help(client.reference_tickers_v3)"
   ]
  },
  {
   "cell_type": "code",
   "execution_count": null,
   "id": "f8601ab3-ea2d-496e-b6dd-2bd99cb5d4d9",
   "metadata": {},
   "outputs": [],
   "source": [
    "class MyRESTClient(RESTClient):\n",
    "    def __init__(self, auth_key: str=settings['api_key'], timeout:int=5):\n",
    "        super().__init__(auth_key)\n",
    "        retry_strategy = Retry(total=10,\n",
    "                               backoff_factor=10,\n",
    "                               status_forcelist=[429, 500, 502, 503, 504])\n",
    "        adapter = HTTPAdapter(max_retries=retry_strategy)\n",
    "        self._session.mount('https://', adapter)\n",
    "\n",
    "    def get_tickers(self, market:str=None) -> pd.DataFrame:\n",
    "        if not market in markets:\n",
    "            raise Exception(f'Market must be one of {markets}.')\n",
    "\n",
    "        resp = self.reference_tickers_v3(market=market)\n",
    "        if hasattr(resp, 'results'):\n",
    "            df = pd.DataFrame(resp.results)\n",
    "\n",
    "            while hasattr(resp, 'next_url'):\n",
    "                resp = self.reference_tickers_v3(next_url=resp.next_url)\n",
    "                df = df.append(pd.DataFrame(resp.results))\n",
    "\n",
    "            if market == 'crypto':\n",
    "                # Only use USD pairings.</em>\n",
    "                df = df[df['currency_symbol'] == 'USD']\n",
    "                df['name'] = df['base_currency_name']\n",
    "                df = df[['ticker', 'name', 'market', 'active']]\n",
    "\n",
    "            df = df.drop_duplicates(subset='ticker')\n",
    "            return df\n",
    "        return None"
   ]
  },
  {
   "cell_type": "code",
   "execution_count": null,
   "id": "c54ffd1d-ae72-4137-a619-2f7710784996",
   "metadata": {},
   "outputs": [],
   "source": [
    "client = MyRESTClient(settings['api_key'])\n",
    "df = client.get_tickers(market='crypto')\n",
    "df"
   ]
  },
  {
   "cell_type": "code",
   "execution_count": null,
   "id": "312cbac3-0d7f-4756-b077-696eb0737e21",
   "metadata": {},
   "outputs": [],
   "source": [
    "# Default example\n",
    "df2 = df.where(df.ticker == 'X:1INCHUSD')\n",
    "df2"
   ]
  },
  {
   "cell_type": "code",
   "execution_count": null,
   "id": "031df004-d972-4bbe-b06c-c29df619d747",
   "metadata": {},
   "outputs": [],
   "source": [
    "help(client.stocks_equities_aggregates)"
   ]
  },
  {
   "cell_type": "code",
   "execution_count": null,
   "id": "298812c5-98bf-464e-bc18-9888e317757d",
   "metadata": {},
   "outputs": [],
   "source": [
    "class MyRESTClient(RESTClient):\n",
    "    def __init__(self, auth_key: str=settings['api_key'], timeout:int=5):\n",
    "        super().__init__(auth_key)\n",
    "        retry_strategy = Retry(total=10,\n",
    "                               backoff_factor=10,\n",
    "                               status_forcelist=[429, 500, 502, 503, 504])\n",
    "        adapter = HTTPAdapter(max_retries=retry_strategy)\n",
    "        self._session.mount('https://', adapter)\n",
    "\n",
    "    def get_tickers(self, market:str=None) -> pd.DataFrame:\n",
    "        if not market in markets:\n",
    "            raise Exception(f'Market must be one of {markets}.')\n",
    "\n",
    "        resp = self.reference_tickers_v3(market=market)\n",
    "        if hasattr(resp, 'results'):\n",
    "            df = pd.DataFrame(resp.results)\n",
    "\n",
    "            while hasattr(resp, 'next_url'):\n",
    "                resp = self.reference_tickers_v3(next_url=resp.next_url)\n",
    "                df = df.append(pd.DataFrame(resp.results))\n",
    "\n",
    "            if market == 'crypto':\n",
    "                # Only use USD pairings.</em>\n",
    "                df = df[df['currency_symbol'] == 'USD']\n",
    "                df['name'] = df['base_currency_name']\n",
    "                df = df[['ticker', 'name', 'market', 'active']]\n",
    "\n",
    "            df = df.drop_duplicates(subset='ticker')\n",
    "            return df\n",
    "        return None\n",
    "\n",
    "    def get_bars(self, market:str=None, ticker:str=None, multiplier:int=1,\n",
    "                 timespan:str='minute', from_:date=None, to:date=None) -> pd.DataFrame:\n",
    "\n",
    "        if not market in markets:\n",
    "            raise Exception(f'Market must be one of {markets}.')\n",
    "\n",
    "        if ticker is None:\n",
    "            raise Exception('Ticker must not be None.')\n",
    "\n",
    "        from_ = from_ if from_ else date(2000,1,1)\n",
    "        to = to if to else date.today()\n",
    "\n",
    "        if market == 'crypto':\n",
    "            resp = self.crypto_aggregates(ticker, multiplier, timespan,\n",
    "                                          from_.strftime('%Y-%m-%d'), to.strftime('%Y-%m-%d'),\n",
    "                                          limit=50000)\n",
    "            df = pd.DataFrame(resp.results)\n",
    "            last_minute = 0\n",
    "            while resp.results[-1]['t'] > last_minute:\n",
    "                last_minute = resp.results[-1]['t'] \n",
    "                # Last minute in response\n",
    "                last_minute_date = datetime.fromtimestamp(last_minute/1000).strftime('%Y-%m-%d')\n",
    "                resp = self.crypto_aggregates(ticker, multiplier, timespan,\n",
    "                                          last_minute_date, to.strftime('%Y-%m-%d'),\n",
    "                                          limit=50000)\n",
    "                new_bars = pd.DataFrame(resp.results)\n",
    "                df = df.append(new_bars[new_bars['t'] > last_minute])\n",
    "\n",
    "            df['date'] = pd.to_datetime(df['t'], unit='ms')\n",
    "            df = df.rename(columns={'o':'open',\n",
    "                                    'h':'high',\n",
    "                                    'l':'low',\n",
    "                                    'c':'close',\n",
    "                                    'v':'volume',\n",
    "                                    'vw':'vwap',\n",
    "                                    'n':'transactions'})\n",
    "            df = df[['date','open','high','low','close','volume']]\n",
    "\n",
    "            return df\n",
    "        return None"
   ]
  },
  {
   "cell_type": "code",
   "execution_count": null,
   "id": "3cd239a2-fb78-4b9c-9f9d-aa7dc5ab10c2",
   "metadata": {},
   "outputs": [],
   "source": [
    "start = datetime(2017,1,1)\n",
    "client = MyRESTClient(settings['api_key'])\n",
    "BTC_df = client.get_bars(market='crypto', ticker='X:BTCUSD', from_=start)\n"
   ]
  },
  {
   "cell_type": "code",
   "execution_count": null,
   "id": "7caf6e72-7f6d-4b0e-a386-ff599f2971b3",
   "metadata": {},
   "outputs": [],
   "source": [
    "BTC_df.set_index('date')"
   ]
  },
  {
   "cell_type": "code",
   "execution_count": null,
   "id": "047959fb-e0ef-480c-9b07-dba994b14438",
   "metadata": {},
   "outputs": [],
   "source": [
    "BTC_df.hvplot(x='date', y=['high', 'close', 'volume'],\n",
    "                value_label='Price', subplots=True, width=600, height=400)"
   ]
  },
  {
   "cell_type": "code",
   "execution_count": null,
   "id": "09292a3e-7047-427c-9269-7739cdd07849",
   "metadata": {},
   "outputs": [],
   "source": [
    "start = datetime(2017,1,1)\n",
    "client = MyRESTClient(settings['api_key'])\n",
    "ETH_df = client.get_bars(market='crypto', ticker='X:ETHUSD', from_=start)\n"
   ]
  },
  {
   "cell_type": "code",
   "execution_count": null,
   "id": "6f83a1a8-45af-4c5f-81cb-29551b71e94d",
   "metadata": {},
   "outputs": [],
   "source": [
    "ETH_df.set_index('date') "
   ]
  },
  {
   "cell_type": "code",
   "execution_count": null,
   "id": "26326180-2027-4521-9a68-80bf255d0351",
   "metadata": {},
   "outputs": [],
   "source": [
    "start = datetime(2017,1,1)\n",
    "client = MyRESTClient(settings['api_key'])\n",
    "SOL_df = client.get_bars(market='crypto', ticker='X:SOLUSD', from_=start)\n",
    "SOL_df"
   ]
  },
  {
   "cell_type": "code",
   "execution_count": null,
   "id": "65b1255c-9c9a-4d95-956a-f21cc9db5599",
   "metadata": {},
   "outputs": [],
   "source": [
    "SOL_df.set_index('date')"
   ]
  },
  {
   "cell_type": "code",
   "execution_count": null,
   "id": "2ec2aef3-3af0-44fd-937e-e94b5498b9e4",
   "metadata": {},
   "outputs": [],
   "source": [
    "start = datetime(2017,1,1)\n",
    "client = MyRESTClient(settings['api_key'])\n",
    "MATIC_df = client.get_bars(market='crypto', ticker='X:MATICUSD', from_=start)\n",
    "MATIC_df"
   ]
  },
  {
   "cell_type": "code",
   "execution_count": null,
   "id": "96f021dc-7130-40d0-bce6-5f6c3d358c34",
   "metadata": {},
   "outputs": [],
   "source": [
    "MATIC_df.set_index('date')"
   ]
  },
  {
   "cell_type": "code",
   "execution_count": null,
   "id": "fd7237b9-842e-4e0e-b074-ff02077e27ae",
   "metadata": {},
   "outputs": [],
   "source": [
    "start = datetime(2017,1,1)\n",
    "client = MyRESTClient(settings['api_key'])\n",
    "XRP_df = client.get_bars(market='crypto', ticker='X:XRPUSD', from_=start)\n",
    "XRP_df"
   ]
  },
  {
   "cell_type": "code",
   "execution_count": null,
   "id": "e90e8606-da78-4f90-b3f2-1e6c5c4cc283",
   "metadata": {},
   "outputs": [],
   "source": [
    "XRP_df.set_index('date')"
   ]
  },
  {
   "cell_type": "code",
   "execution_count": null,
   "id": "be3ef8d6-15ae-4537-848b-3f8376d02389",
   "metadata": {},
   "outputs": [],
   "source": [
    "start = datetime(2017,1,1)\n",
    "client = MyRESTClient(settings['api_key'])\n",
    "XLM_df = client.get_bars(market='crypto', ticker='X:XLMUSD', from_=start)\n",
    "XLM_df"
   ]
  },
  {
   "cell_type": "code",
   "execution_count": null,
   "id": "5302619e-3226-40a7-9a86-3f01cd1453b2",
   "metadata": {},
   "outputs": [],
   "source": [
    "XLM_df.set_index('date')"
   ]
  },
  {
   "cell_type": "code",
   "execution_count": null,
   "id": "abac060f-1135-456d-bb5c-67d925b85970",
   "metadata": {},
   "outputs": [],
   "source": [
    "start = datetime(2017,1,1)\n",
    "client = MyRESTClient(settings['api_key'])\n",
    "DOGE_df = client.get_bars(market='crypto', ticker='X:DOGEUSD', from_=start)\n",
    "DOGE_df"
   ]
  },
  {
   "cell_type": "code",
   "execution_count": null,
   "id": "54417a57-d1ae-4bdc-b668-3fadf02a4fe3",
   "metadata": {},
   "outputs": [],
   "source": [
    "DOGE_df.set_index('date')"
   ]
  },
  {
   "cell_type": "code",
   "execution_count": null,
   "id": "06b19ba8-e17f-471a-9686-83220a31b8da",
   "metadata": {},
   "outputs": [],
   "source": [
    "start = datetime(2017,1,1)\n",
    "client = MyRESTClient(settings['api_key'])\n",
    "SHIB_df = client.get_bars(market='crypto', ticker='X:SHIBUSD', from_=start)\n",
    "SHIB_df"
   ]
  },
  {
   "cell_type": "code",
   "execution_count": null,
   "id": "82bd65f8-7d7a-4ca5-a381-c0cb7c72da9c",
   "metadata": {},
   "outputs": [],
   "source": [
    "SHIB_df.set_index('date')"
   ]
  },
  {
   "cell_type": "code",
   "execution_count": null,
   "id": "90b61a0d-f5bc-45ae-aec0-5d6e61bf73a5",
   "metadata": {},
   "outputs": [],
   "source": [
    "start = datetime(2017,1,1)\n",
    "client = MyRESTClient(settings['api_key'])\n",
    "MANA_df = client.get_bars(market='crypto', ticker='X:MANAUSD', from_=start)\n"
   ]
  },
  {
   "cell_type": "code",
   "execution_count": null,
   "id": "2cd432c2-7875-4a5c-92d6-871ed698bbcb",
   "metadata": {},
   "outputs": [],
   "source": [
    "MANA_df.set_index('date')"
   ]
  },
  {
   "cell_type": "code",
   "execution_count": null,
   "id": "901224c7-f8a7-4465-8f8e-31e383b43ff4",
   "metadata": {},
   "outputs": [],
   "source": [
    "df_meme_crypto_1 = pd.merge(DOGE_df,MANA_df,on='date',how='inner')\n",
    "df_meme_crypto_1"
   ]
  },
  {
   "cell_type": "code",
   "execution_count": null,
   "id": "0813b1b6-54c7-4720-ad65-09395ffe68b0",
   "metadata": {},
   "outputs": [],
   "source": [
    "df_meme_crypto2 = pd.merge(df_meme_crypto_1,SHIB_df,on='date',how='inner')\n",
    "df_meme_crypto2"
   ]
  },
  {
   "cell_type": "code",
   "execution_count": null,
   "id": "a5cbf6a8-9171-4150-8669-7a200362e0c1",
   "metadata": {},
   "outputs": [],
   "source": [
    "df_meme_crypto2.columns =['Date','DOGE_open', 'DOGE_high', 'DOGE_low', 'DOGE_close', 'DOGE_Vol', 'MANA_open', 'MANA_high', 'MANA_low', 'MANA_close', 'MANA_Vol', 'SHIB_open', 'SHIB_high', 'SHIB_low', 'SHIB_close', 'SHIB_Vol']"
   ]
  },
  {
   "cell_type": "code",
   "execution_count": null,
   "id": "8abdebbb-e74a-4ad1-9a16-efb4c8764290",
   "metadata": {},
   "outputs": [],
   "source": [
    "df_meme_crypto2.set_index('Date')"
   ]
  },
  {
   "cell_type": "code",
   "execution_count": null,
   "id": "ec80c5ba-44e6-4ec2-aca2-3b1a4bb317c1",
   "metadata": {},
   "outputs": [],
   "source": [
    "df_meme = df_meme_crypto2[['Date','DOGE_close','MANA_close','SHIB_close']]"
   ]
  },
  {
   "cell_type": "code",
   "execution_count": null,
   "id": "c038de4e-ca8d-47b7-8352-9bb1c28942c5",
   "metadata": {},
   "outputs": [],
   "source": [
    "df_meme.head(30)"
   ]
  },
  {
   "cell_type": "code",
   "execution_count": null,
   "id": "907e2bf7-9dc8-4fd3-adbc-11f4824b056a",
   "metadata": {},
   "outputs": [],
   "source": [
    "df_meme.hvplot(x='Date', y=['DOGE_close', 'MANA_close', 'SHIB_close'],\n",
    "                value_label='Price', subplots=True, width=600, height=400)"
   ]
  },
  {
   "cell_type": "code",
   "execution_count": null,
   "id": "ad14b21b-d237-4b9e-bbb1-3c429a24e8f4",
   "metadata": {},
   "outputs": [],
   "source": [
    "df_meme_pct_change = df_meme.set_index('Date').pct_change()"
   ]
  },
  {
   "cell_type": "code",
   "execution_count": null,
   "id": "d6baeb73-77ae-4bef-96cd-4875dcc85b1b",
   "metadata": {},
   "outputs": [],
   "source": [
    "df_meme_pct_change.hvplot(figsize = (20,10))"
   ]
  },
  {
   "cell_type": "code",
   "execution_count": null,
   "id": "12c8daf4-1173-4739-8427-0dfdf1526899",
   "metadata": {},
   "outputs": [],
   "source": [
    "# Calculate the correlation of closing prices between portfolios\n",
    "price_correlation = df_meme_pct_change.corr()\n",
    "\n",
    "# Use the `heatmap` function from the seaborn library to visualize correlations\n",
    "sns.heatmap(price_correlation, vmin=0, vmax=1)\n",
    "\n",
    "# Refer to markdown for analysis\n",
    "\n",
    "price_correlation"
   ]
  },
  {
   "cell_type": "code",
   "execution_count": null,
   "id": "7eae73b4-cb9c-4b02-a6f3-0c42262157a9",
   "metadata": {},
   "outputs": [],
   "source": []
  },
  {
   "cell_type": "code",
   "execution_count": null,
   "id": "9ef3c2ea-23f2-429d-b765-711705162033",
   "metadata": {},
   "outputs": [],
   "source": [
    "#Calculate the weighted returns for your portfolio, assuming equal number of shares per stock.\n",
    "# Set weights for corresponding of stocks: GOOG, AAL, NVDA, TSLA, ICNL at 20%\n",
    "weights = [0.34, 0.33, 0.33]\n",
    "\n",
    "# Use the `dot` function to sum the product each weight and the corresponding daily return.\n",
    "memeportfolio_returns = df_meme_pct_change.dot(weights)\n",
    "\n",
    "# Diplay sample values\n",
    "memeportfolio_returns.plot(figsize = (20,10))\n",
    "\n",
    "# Use the `cumprod` function to calculate cumulative returns\n",
    "memecumulative_returns = (1 + memeportfolio_returns).cumprod()\n",
    "\n",
    "# Display sample values\n",
    "memecumulative_returns.head()\n",
    "\n",
    "# Set initial investment\n",
    "initial_investment = 100000\n",
    "\n",
    "# Compute cumulative returns\n",
    "memecumulative_profit = initial_investment * memecumulative_returns\n",
    "\n",
    "# Plot the returns of the investment\n",
    "memecumulative_profit.hvplot(figsize=(20,10))"
   ]
  },
  {
   "cell_type": "code",
   "execution_count": null,
   "id": "49ffb958-f25f-4bf6-a2fe-dcaef584adb9",
   "metadata": {},
   "outputs": [],
   "source": [
    "memecumulative_profit"
   ]
  },
  {
   "cell_type": "code",
   "execution_count": null,
   "id": "8610ffc0-8b0b-4685-879f-e806a2cb9049",
   "metadata": {},
   "outputs": [],
   "source": [
    "df_coin_crypto_1 = pd.merge(BTC_df,XRP_df,on='date',how='inner')\n",
    "df_coin_crypto_1"
   ]
  },
  {
   "cell_type": "code",
   "execution_count": null,
   "id": "a1aedbf5-49be-4a66-b417-8e182adbbcac",
   "metadata": {},
   "outputs": [],
   "source": [
    "df_coin_crypto2 = pd.merge(df_coin_crypto_1,XLM_df,on='date',how='inner')\n",
    "df_coin_crypto2"
   ]
  },
  {
   "cell_type": "code",
   "execution_count": null,
   "id": "9deff7f9-c82c-41ef-90d5-51d3ccab0e34",
   "metadata": {},
   "outputs": [],
   "source": [
    "df_coin_crypto2.columns =['Date','BTC_open', 'BTC_high', 'BTC_low', 'BTC_close', 'BTC_Vol',\n",
    "                          'XRP_open', 'XRP_high', 'XRP_low', 'XRP_close', 'XRP_Vol', \n",
    "                          'XLM_open', 'XLM_high', 'XLM_low', 'XLM_close', 'XLM_Vol']\n",
    "\n",
    "df_coin_crypto2"
   ]
  },
  {
   "cell_type": "code",
   "execution_count": null,
   "id": "5adde9b6-cf2b-4af5-92a1-ee1527eee438",
   "metadata": {},
   "outputs": [],
   "source": [
    "df_coin = df_coin_crypto2[['Date','BTC_close','XRP_close','XLM_close']]\n",
    "df_coin"
   ]
  },
  {
   "cell_type": "code",
   "execution_count": null,
   "id": "53248d9e-853d-4ad9-a617-ad7854363cdc",
   "metadata": {},
   "outputs": [],
   "source": [
    "df_coin.hvplot(x='Date', y=['BTC_close', 'XRP_close', 'XLM_close'],\n",
    "                value_label='Price', subplots=True, width=600, height=400)"
   ]
  },
  {
   "cell_type": "code",
   "execution_count": null,
   "id": "a6ac5191-8ad7-4c7b-a045-bb50297e2ea0",
   "metadata": {},
   "outputs": [],
   "source": [
    "df_coin_pct_change = df_coin.set_index('Date').pct_change()\n",
    "df_coin_pct_change"
   ]
  },
  {
   "cell_type": "code",
   "execution_count": null,
   "id": "8443013b-5036-4c8a-8e40-216b6f0265cd",
   "metadata": {},
   "outputs": [],
   "source": [
    "df_coin_pct_change.hvplot(figsize = (20,10))"
   ]
  },
  {
   "cell_type": "code",
   "execution_count": null,
   "id": "3e50a0f5-631b-4a04-81d6-a2775a8c35bc",
   "metadata": {},
   "outputs": [],
   "source": [
    "# Calculate the correlation of closing prices between portfolios\n",
    "price_correlation_coin = df_coin_pct_change.corr()\n",
    "\n",
    "# Use the `heatmap` function from the seaborn library to visualize correlations\n",
    "sns.heatmap(price_correlation_coin, vmin=0, vmax=1)\n",
    "\n",
    "# Refer to markdown for analysis\n",
    "\n",
    "price_correlation_coin"
   ]
  },
  {
   "cell_type": "code",
   "execution_count": null,
   "id": "0c71f0eb-dff9-4586-b6a5-a95549d84484",
   "metadata": {},
   "outputs": [],
   "source": [
    "#Calculate the weighted returns for your portfolio, assuming equal number of shares per stock.\n",
    "# Set weights for corresponding of stocks: GOOG, AAL, NVDA, TSLA, ICNL at 20%\n",
    "weights = [0.34, 0.33, 0.33]\n",
    "\n",
    "# Use the `dot` function to sum the product each weight and the corresponding daily return.\n",
    "coin_portfolio_returns = df_coin_pct_change.dot(weights)\n",
    "\n",
    "# Diplay sample values\n",
    "coin_portfolio_returns.plot(figsize = (20,10))\n",
    "\n",
    "# Use the `cumprod` function to calculate cumulative returns\n",
    "coin_cumulative_returns = (1 + coin_portfolio_returns).cumprod()\n",
    "\n",
    "# Display sample values\n",
    "coin_cumulative_returns.head()\n",
    "\n",
    "# Set initial investment\n",
    "initial_investment = 100000\n",
    "\n",
    "# Compute cumulative returns\n",
    "coin_cumulative_profit = initial_investment * coin_cumulative_returns\n",
    "\n",
    "# Plot the returns of the investment\n",
    "coin_cumulative_profit.hvplot(figsize=(20,10))"
   ]
  },
  {
   "cell_type": "code",
   "execution_count": null,
   "id": "7b1f9567-ed3b-42f6-b0ff-194c4cb4f17b",
   "metadata": {},
   "outputs": [],
   "source": [
    "coin_cumulative_profit"
   ]
  },
  {
   "cell_type": "code",
   "execution_count": null,
   "id": "953cd1af-35c5-4f74-8a5b-d982f8f0ae31",
   "metadata": {},
   "outputs": [],
   "source": [
    "df_chain_crypto_1 = pd.merge(ETH_df,SOL_df,on='date',how='inner')\n",
    "df_chain_crypto_1"
   ]
  },
  {
   "cell_type": "code",
   "execution_count": null,
   "id": "7caef0d9-4c4a-452a-9107-8a0462831efd",
   "metadata": {},
   "outputs": [],
   "source": [
    "df_chain_crypto2 = pd.merge(df_chain_crypto_1,MATIC_df,on='date',how='inner')\n",
    "df_chain_crypto2"
   ]
  },
  {
   "cell_type": "code",
   "execution_count": null,
   "id": "586210fe-7e84-4ea5-b64f-4074229102e0",
   "metadata": {},
   "outputs": [],
   "source": [
    "df_chain_crypto2.columns =['Date','ETH_open', 'ETH_high', 'ETH_low', 'ETH_close', 'ETH_Vol',\n",
    "                          'SOL_open', 'SOL_high', 'SOL_low', 'SOL_close', 'SOL_Vol', \n",
    "                          'MATIC_open', 'MATIC_high', 'MATIC_low', 'MATIC_close', 'MATIC_Vol']\n",
    "\n",
    "df_chain_crypto2"
   ]
  },
  {
   "cell_type": "code",
   "execution_count": null,
   "id": "fdcb101b-9280-4547-b3a0-66e1735eb052",
   "metadata": {},
   "outputs": [],
   "source": [
    "df_chain = df_chain_crypto2[['Date','ETH_close','SOL_close','MATIC_close']]\n",
    "df_chain"
   ]
  },
  {
   "cell_type": "code",
   "execution_count": null,
   "id": "10d00b2b-c182-4105-8b37-bc3e68a965c4",
   "metadata": {},
   "outputs": [],
   "source": [
    "df_chain_pct_change = df_chain.set_index('Date').pct_change()\n",
    "df_chain_pct_change"
   ]
  },
  {
   "cell_type": "code",
   "execution_count": null,
   "id": "f0f4a4ed-917c-47be-92ac-f72f03dcd533",
   "metadata": {},
   "outputs": [],
   "source": [
    "df_chain_pct_change.hvplot(figsize = (20,10))"
   ]
  },
  {
   "cell_type": "code",
   "execution_count": null,
   "id": "76b89001-894d-4c42-9bd5-890ffc315aa7",
   "metadata": {},
   "outputs": [],
   "source": [
    "# Calculate the correlation of closing prices between portfolios\n",
    "price_correlation_chain = df_chain_pct_change.corr()\n",
    "\n",
    "# Use the `heatmap` function from the seaborn library to visualize correlations\n",
    "sns.heatmap(price_correlation_chain, vmin=0, vmax=1)\n",
    "\n",
    "# Refer to markdown for analysis\n",
    "\n",
    "price_correlation_chain"
   ]
  },
  {
   "cell_type": "code",
   "execution_count": null,
   "id": "7dcf4b46-6ed8-465c-b523-8bee77ddcc3d",
   "metadata": {},
   "outputs": [],
   "source": [
    "#Calculate the weighted returns for your portfolio, assuming equal number of shares per stock.\n",
    "# Set weights for corresponding of stocks: GOOG, AAL, NVDA, TSLA, ICNL at 20%\n",
    "weights = [0.34, 0.33, 0.33]\n",
    "\n",
    "# Use the `dot` function to sum the product each weight and the corresponding daily return.\n",
    "chain_portfolio_returns = df_chain_pct_change.dot(weights)\n",
    "\n",
    "# Diplay sample values\n",
    "chain_portfolio_returns.plot(figsize = (20,10))\n",
    "\n",
    "# Use the `cumprod` function to calculate cumulative returns\n",
    "chain_cumulative_returns = (1 + chain_portfolio_returns).cumprod()\n",
    "\n",
    "# Display sample values\n",
    "chain_cumulative_returns.head()\n",
    "\n",
    "# Set initial investment\n",
    "initial_investment = 100000\n",
    "\n",
    "# Compute cumulative returns\n",
    "chain_cumulative_profit = initial_investment * chain_cumulative_returns\n",
    "\n",
    "\n",
    "# Plot the returns of the investment\n",
    "chain_cumulative_profit.hvplot(figsize=(20,10))\n",
    "\n"
   ]
  },
  {
   "cell_type": "code",
   "execution_count": null,
   "id": "c8c5fe47-517c-49ef-ab04-54835e4d7531",
   "metadata": {},
   "outputs": [],
   "source": [
    "chain_cumulative_profit"
   ]
  },
  {
   "cell_type": "code",
   "execution_count": null,
   "id": "e5c28083-4fbb-402f-8b81-53f69ac1658e",
   "metadata": {},
   "outputs": [],
   "source": []
  },
  {
   "cell_type": "code",
   "execution_count": null,
   "id": "1e8bce66-c0a1-4194-9809-e11cd30f8042",
   "metadata": {},
   "outputs": [],
   "source": []
  },
  {
   "cell_type": "code",
   "execution_count": null,
   "id": "2f870b2e-0ab0-44cf-98ed-69a50e48a2ee",
   "metadata": {},
   "outputs": [],
   "source": []
  },
  {
   "cell_type": "code",
   "execution_count": null,
   "id": "4c50d9f8-2ac9-4712-a20a-b9f6fe3ed8fb",
   "metadata": {},
   "outputs": [],
   "source": []
  },
  {
   "cell_type": "code",
   "execution_count": null,
   "id": "86d4af00-5b31-4ad4-a4ac-eaef822c505e",
   "metadata": {},
   "outputs": [],
   "source": []
  },
  {
   "cell_type": "code",
   "execution_count": null,
   "id": "1534015b-faf5-4540-b472-d51998922e34",
   "metadata": {},
   "outputs": [],
   "source": []
  },
  {
   "cell_type": "code",
   "execution_count": null,
   "id": "bcfd68a2-57c5-41b2-8dbc-a2db21f348bb",
   "metadata": {},
   "outputs": [],
   "source": []
  },
  {
   "cell_type": "code",
   "execution_count": null,
   "id": "0d012934-e175-4a85-aca6-9af604acb4fe",
   "metadata": {},
   "outputs": [],
   "source": []
  },
  {
   "cell_type": "code",
   "execution_count": null,
   "id": "3822b861-879a-473d-bb88-452592911975",
   "metadata": {},
   "outputs": [],
   "source": []
  },
  {
   "cell_type": "code",
   "execution_count": null,
   "id": "d49bdd48-e0a3-42a1-80e2-8b16240e9a64",
   "metadata": {},
   "outputs": [],
   "source": []
  },
  {
   "cell_type": "code",
   "execution_count": null,
   "id": "e42a59cd-ddc0-4cdf-bea5-d995f27be5f8",
   "metadata": {},
   "outputs": [],
   "source": []
  }
 ],
 "metadata": {
  "kernelspec": {
   "display_name": "Python 3 (ipykernel)",
   "language": "python",
   "name": "python3"
  },
  "language_info": {
   "codemirror_mode": {
    "name": "ipython",
    "version": 3
   },
   "file_extension": ".py",
   "mimetype": "text/x-python",
   "name": "python",
   "nbconvert_exporter": "python",
   "pygments_lexer": "ipython3",
   "version": "3.7.13"
  }
 },
 "nbformat": 4,
 "nbformat_minor": 5
}
